{
 "cells": [
  {
   "cell_type": "markdown",
   "metadata": {},
   "source": [
    "# Using the CSV module for file I/O\n",
    "\n",
    "Python's **csv** module allows you to easily work with **comma separated values** in files\n",
    "\n",
    "CSV files are used to store a large number of variables – or data. They are incredibly simplified spreadsheets – think Excel – only the content is stored in plaintext.\n",
    "\n",
    "And the CSV module is a built-in function that allows Python to parse these types of files.\n",
    "\n",
    "\n",
    "[more info here](http://www.pythonforbeginners.com/systems-programming/using-the-csv-module-in-python/)\n",
    "\n",
    "\n"
   ]
  },
  {
   "cell_type": "markdown",
   "metadata": {},
   "source": [
    "# A csv file\n",
    "\n",
    "The file this sample notebook works with is called **students.csv**\n",
    "\n",
    "Remember the file needs to be in the same folder as the python program in order to access it.\n",
    "\n",
    "You should always use a try/except block around file I/O as missing files or incorrectly named files will result in your program crashing (```  FileNotFound ``` exception) \n",
    "\n",
    "The file looks like this:\n",
    "```\n",
    "Fred,23,34,56\n",
    "Joe,99,45,56\n",
    "Jane,65,34,57\n",
    "Gigi,77,99,12\n",
    "Karla,76,84,45\n",
    "```"
   ]
  },
  {
   "cell_type": "code",
   "execution_count": 2,
   "metadata": {},
   "outputs": [],
   "source": [
    "#import the csv module\n",
    "import csv\n",
    "\n",
    "#functions\n",
    "\n",
    "#This function opens the file for reading and reads the file contents into a List of list of Strings. \n",
    "#This list is returned to the calling program\n",
    "\n",
    "def openFileRead():\n",
    "    try:\n",
    "        with open(\"students.csv\") as f:\n",
    "            dataList = [item for item in csv.reader(f)]\n",
    "        \n",
    "            \n",
    "    except:\n",
    "        print(\"Fail\")\n",
    "        pass\n",
    "    \n",
    "    #code here\n",
    "    return dataList\n",
    "\n",
    "\n",
    "#main program\n",
    "\n",
    "studentDataList = openFileRead()"
   ]
  },
  {
   "cell_type": "code",
   "execution_count": 3,
   "metadata": {},
   "outputs": [
    {
     "name": "stdout",
     "output_type": "stream",
     "text": [
      "Name\tMaths\tEng\tSci\n",
      "[['Fred', '23', '34', '56'], ['Joe', '99', '45', '56'], ['Jane', '65', '34', '57'], ['Gigi', '77', '99', '12'], ['Karla', '76', '84', '45']]\n"
     ]
    }
   ],
   "source": [
    "# this function takes as its parameters a list of list (of strings) \n",
    "# and a heading (as a string)\n",
    "# and prints the data in a user friendly table\n",
    "def printData(dataList, headings):\n",
    "    studentDataList = dataList\n",
    "    print(headings)\n",
    "    print(studentDataList)\n",
    "printData(studentDataList, \"Name\\tMaths\\tEng\\tSci\")"
   ]
  },
  {
   "cell_type": "code",
   "execution_count": 4,
   "metadata": {},
   "outputs": [
    {
     "name": "stdout",
     "output_type": "stream",
     "text": [
      "[['Fred', '23', '34', '56'], ['Joe', '99', '45', '56'], ['Jane', '65', '34', '57'], ['Gigi', '77', '99', '12'], ['Karla', '76', '84', '45']]\n",
      "[['Fred', '23', '34', '56', '37.666666666666664'], ['Joe', '99', '45', '56', '66.66666666666667'], ['Jane', '65', '34', '57', '52.0'], ['Gigi', '77', '99', '12', '62.666666666666664'], ['Karla', '76', '84', '45', '68.33333333333333']]\n",
      "[['Fred', '23', '34', '56', '37.666666666666664'], ['Joe', '99', '45', '56', '66.66666666666667'], ['Jane', '65', '34', '57', '52.0'], ['Gigi', '77', '99', '12', '62.666666666666664'], ['Karla', '76', '84', '45', '68.33333333333333']]\n"
     ]
    }
   ],
   "source": [
    "#this function takes a list of lists (of strings) and calculates the students average grade\n",
    "#this new data is stored in a new list of lists which is returned to the calling function\n",
    "def calulateAve(dataList):\n",
    "    print(dataList)\n",
    "    newDataList=[]\n",
    "    for item in dataList:\n",
    "        DATA = list(map(int,item[1:4]))\n",
    "        newDataList.append(item+[str(sum(DATA)/len(DATA))])\n",
    "        \n",
    "    print(newDataList)\n",
    "    #code here\n",
    "       \n",
    "    return newDataList\n",
    "\n",
    "aveStudentData = calulateAve(studentDataList)\n",
    "print(aveStudentData) #debug"
   ]
  },
  {
   "cell_type": "code",
   "execution_count": 6,
   "metadata": {},
   "outputs": [
    {
     "name": "stdout",
     "output_type": "stream",
     "text": [
      "Name\tMaths\tEng\tSci\tAve\n",
      "[['Fred', '23', '34', '56', '37.666666666666664'], ['Joe', '99', '45', '56', '66.66666666666667'], ['Jane', '65', '34', '57', '52.0'], ['Gigi', '77', '99', '12', '62.666666666666664'], ['Karla', '76', '84', '45', '68.33333333333333']]\n"
     ]
    }
   ],
   "source": [
    "# now print this new list out nicely\n",
    "\n",
    "printData(aveStudentData, \"Name\\tMaths\\tEng\\tSci\\tAve\")"
   ]
  },
  {
   "cell_type": "code",
   "execution_count": 35,
   "metadata": {},
   "outputs": [
    {
     "name": "stdout",
     "output_type": "stream",
     "text": [
      "[['Fred', '23', '34', '56', '37.666666666666664'], ['Joe', '99', '45', '56', '66.66666666666667'], ['Jane', '65', '34', '57', '52.0'], ['Gigi', '77', '99', '12', '62.666666666666664'], ['Karla', '76', '84', '45', '68.33333333333333']]\n",
      "Fred\n",
      "23\n",
      "34\n",
      "56\n",
      "37.666666666666664\n",
      "Joe\n",
      "99\n",
      "45\n",
      "56\n",
      "66.66666666666667\n",
      "Jane\n",
      "65\n",
      "34\n",
      "57\n",
      "52.0\n",
      "Gigi\n",
      "77\n",
      "99\n",
      "12\n",
      "62.666666666666664\n",
      "Karla\n",
      "76\n",
      "84\n",
      "45\n",
      "68.33333333333333\n"
     ]
    }
   ],
   "source": [
    "#this function writes a list of lists to a file (as a csv)\n",
    "def write2DListDataToFile(twoDList):\n",
    "    print(twoDList)\n",
    "    with open(\"students.csv\",\"w\") as f:\n",
    "        for item in twoDList:\n",
    "            for i in item:\n",
    "                print(i)\n",
    "                row = str(i)\n",
    "                f.write(row)\n",
    "                if item.index(i) != len(item)-1:\n",
    "                    f.write(\",\")\n",
    "            f.write(\"\\n\")\n",
    "        f.close()\n",
    "    \n",
    "    #code here\n",
    "\n",
    "write2DListDataToFile(aveStudentData) \n",
    "# now go a find the file that has been created in your folder"
   ]
  },
  {
   "cell_type": "markdown",
   "metadata": {},
   "source": [
    "## with open(\"students.csv\") as f:\n",
    "    csv.writer(f,[\"1\",\"2\",\"3\"])"
   ]
  },
  {
   "cell_type": "code",
   "execution_count": null,
   "metadata": {},
   "outputs": [],
   "source": []
  }
 ],
 "metadata": {
  "kernelspec": {
   "display_name": "Python 3",
   "language": "python",
   "name": "python3"
  },
  "language_info": {
   "codemirror_mode": {
    "name": "ipython",
    "version": 3
   },
   "file_extension": ".py",
   "mimetype": "text/x-python",
   "name": "python",
   "nbconvert_exporter": "python",
   "pygments_lexer": "ipython3",
   "version": "3.5.2"
  }
 },
 "nbformat": 4,
 "nbformat_minor": 2
}
